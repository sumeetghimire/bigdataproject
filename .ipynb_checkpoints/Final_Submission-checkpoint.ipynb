{
  "cells": [
    {
      "cell_type": "markdown",
      "metadata": {},
      "source": [
        "# Language Extinction Risk Prediction Analysis\n",
        "\n",
        "**INFT6201 Big Data Assessment 2**  \n",
        "**Predicting Global Language Extinction Risk: A Machine Learning Framework to Guide UNESCO's International Decade of Indigenous Languages 2022-2032**\n",
        "\n",
        "---\n",
        "\n",
        "## Executive Summary\n",
        "\n",
        "This notebook presents a comprehensive analysis of global language extinction risk using machine learning. The project develops a framework to predict which of the world's 3,116 endangered languages face imminent extinction, enabling data-driven prioritization of preservation resources during UNESCO's International Decade of Indigenous Languages (2022-2032).\n",
        "\n",
        "### Key Objectives:\n",
        "1. **Classification Task**: Predict language endangerment transitions with >85% accuracy\n",
        "2. **Feature Analysis**: Identify the most important factors driving language endangerment\n",
        "3. **Geographic Patterns**: Map global distribution of endangered languages\n",
        "4. **Policy Impact**: Provide actionable insights for preservation efforts\n",
        "\n",
        "### Expected Impact:\n",
        "- Guide UNESCO's $2+ billion International Decade of Indigenous Languages\n",
        "- Enable early intervention to save 200-300 languages by 2100\n",
        "- Preserve irreplaceable cultural heritage for millions of Indigenous peoples\n"
      ]
    },
    {
      "cell_type": "markdown",
      "metadata": {},
      "source": [
        "## 1. Data Loading and Integration\n",
        "\n",
        "We integrate multiple global datasets to create a comprehensive language endangerment database:\n"
      ]
    },
    {
      "cell_type": "code",
      "execution_count": null,
      "metadata": {},
      "outputs": [],
      "source": [
        "import pandas as pd",
        "import numpy as np",
        "import matplotlib.pyplot as plt",
        "import seaborn as sns",
        "import warnings",
        "warnings.filterwarnings(\"ignore\")",
        "",
        "print(\"Libraries imported successfully!\")",
        "print(\"Ready to load data...\")"
      ]
    }
  ],
  "metadata": {
    "language_info": {
      "name": "python"
    }
  },
  "nbformat": 4,
  "nbformat_minor": 2
}