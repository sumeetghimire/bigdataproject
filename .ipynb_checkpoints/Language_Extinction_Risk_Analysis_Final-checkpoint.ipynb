{
 "cells": [
  {
   "cell_type": "markdown",
   "metadata": {},
   "source": [
    "# Language Extinction Risk Prediction Analysis\n",
    "\n",
    "**INFT6201 Big Data Assessment 2**  \n",
    "**Predicting Global Language Extinction Risk: A Machine Learning Framework to Guide UNESCO's International Decade of Indigenous Languages 2022-2032**\n",
    "\n",
    "---\n",
    "\n",
    "## Executive Summary\n",
    "\n",
    "This notebook presents a comprehensive analysis of global language extinction risk using machine learning. The project develops a framework to predict which of the world's 3,116 endangered languages face imminent extinction, enabling data-driven prioritization of preservation resources during UNESCO's International Decade of Indigenous Languages (2022-2032).\n",
    "\n",
    "### Key Objectives:\n",
    "1. **Classification Task**: Predict language endangerment transitions with >85% accuracy\n",
    "2. **Feature Analysis**: Identify the most important factors driving language endangerment\n",
    "3. **Geographic Patterns**: Map global distribution of endangered languages\n",
    "4. **Policy Impact**: Provide actionable insights for preservation efforts\n",
    "\n",
    "### Expected Impact:\n",
    "- Guide UNESCO's $2+ billion International Decade of Indigenous Languages\n",
    "- Enable early intervention to save 200-300 languages by 2100\n",
    "- Preserve irreplaceable cultural heritage for millions of Indigenous peoples\n"
   ]
  },
  {
   "cell_type": "markdown",
   "metadata": {},
   "source": [
    "## 1. Data Loading and Integration\n",
    "\n",
    "We integrate multiple global datasets to create a comprehensive language endangerment database:\n"
   ]
  },
  {
   "cell_type": "code",
   "execution_count": 1,
   "metadata": {
    "execution": {
     "iopub.execute_input": "2025-10-26T22:28:31.207697Z",
     "iopub.status.busy": "2025-10-26T22:28:31.207448Z",
     "iopub.status.idle": "2025-10-26T22:28:58.406906Z",
     "shell.execute_reply": "2025-10-26T22:28:58.406380Z"
    }
   },
   "outputs": [
    {
     "name": "stdout",
     "output_type": "stream",
     "text": [
      "Libraries imported successfully!\n",
      "Starting Language Extinction Risk Analysis...\n"
     ]
    }
   ],
   "source": [
    "# Import required libraries\n",
    "import sys\n",
    "import pandas as pd\n",
    "import numpy as np\n",
    "import matplotlib.pyplot as plt\n",
    "import seaborn as sns\n",
    "import plotly.express as px\n",
    "import plotly.graph_objects as go\n",
    "from plotly.subplots import make_subplots\n",
    "import warnings\n",
    "warnings.filterwarnings('ignore')\n",
    "\n",
    "# Add src to path\n",
    "sys.path.append('src')\n",
    "\n",
    "# Import our custom modules\n",
    "from data.data_loader import LanguageDataLoader\n",
    "from data.data_preprocessor import LanguageDataPreprocessor\n",
    "from models.ml_models import LanguageExtinctionPredictor\n",
    "from visualization.visualizer import LanguageVisualizer\n",
    "\n",
    "# Set up plotting style\n",
    "plt.style.use('seaborn-v0_8')\n",
    "sns.set_palette(\"husl\")\n",
    "\n",
    "print(\"Libraries imported successfully!\")\n",
    "print(\"Starting Language Extinction Risk Analysis...\")\n"
   ]
  }
 ],
 "metadata": {
  "language_info": {
   "codemirror_mode": {
    "name": "ipython",
    "version": 3
   },
   "file_extension": ".py",
   "mimetype": "text/x-python",
   "name": "python",
   "nbconvert_exporter": "python",
   "pygments_lexer": "ipython3",
   "version": "3.13.1"
  }
 },
 "nbformat": 4,
 "nbformat_minor": 2
}
