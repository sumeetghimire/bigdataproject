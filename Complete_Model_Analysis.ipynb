{
  "cells": [
    {
      "cell_type": "markdown",
      "metadata": {},
      "source": [
        "# Language Extinction Risk Prediction - Complete Model Analysis\n",
        "\n",
        "**Course:** INFT6201 Big Data Assessment 2  \n",
        "**Project:** Predicting Global Language Extinction Risk  \n",
        "**Date:** October 2024\n",
        "\n",
        "---\n",
        "\n",
        "## Table of Contents\n",
        "1. [Introduction](#introduction)\n",
        "2. [Data Loading and Preprocessing](#data-loading)\n",
        "3. [Model Training](#model-training)\n",
        "4. [Model Evaluation](#model-evaluation)\n",
        "5. [Performance Metrics](#performance-metrics)\n",
        "6. [Confusion Matrices](#confusion-matrices)\n",
        "7. [Box Plots and Statistical Analysis](#box-plots)\n",
        "8. [Feature Importance](#feature-importance)\n",
        "9. [Conclusions](#conclusions)\n"
      ]
    }
  ],
  "metadata": {
    "language_info": {
      "name": "python"
    }
  },
  "nbformat": 4,
  "nbformat_minor": 2
}
